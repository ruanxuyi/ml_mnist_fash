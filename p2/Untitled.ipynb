{
 "cells": [
  {
   "cell_type": "markdown",
   "metadata": {},
   "source": [
    "## Questions:\n",
    "https://lazyprogrammer.me/bayes-classifier-and-naive-bayes-tutorial-using/\n",
    "1. probabilities are very small when dimensionality is high ??\n",
    "\n",
    "\n",
    "Good tutorial on Bayes basic:\n",
    "https://lazyprogrammer.me/bayes-classifier-and-naive-bayes-tutorial-using/\n",
    "\n",
    "Naive Bayes on MNIST dataset\n",
    "https://github.com/bikz05/ipython-notebooks/blob/master/machine-learning/naive-bayes-mnist-sklearn.ipynb\n",
    "\n",
    "Code:\n",
    "1. https://github.com/haidawyl/Mnist/blob/master/bayes.py\n",
    "2. 81.7% MultinomialNB(): https://github.com/bikz05/ipython-notebooks/blob/master/machine-learning/naive-bayes-mnist-sklearn.ipynb"
   ]
  },
  {
   "cell_type": "code",
   "execution_count": null,
   "metadata": {},
   "outputs": [],
   "source": []
  }
 ],
 "metadata": {
  "kernelspec": {
   "display_name": "Python 2",
   "language": "python",
   "name": "python2"
  },
  "language_info": {
   "codemirror_mode": {
    "name": "ipython",
    "version": 2
   },
   "file_extension": ".py",
   "mimetype": "text/x-python",
   "name": "python",
   "nbconvert_exporter": "python",
   "pygments_lexer": "ipython2",
   "version": "2.7.10"
  }
 },
 "nbformat": 4,
 "nbformat_minor": 2
}
